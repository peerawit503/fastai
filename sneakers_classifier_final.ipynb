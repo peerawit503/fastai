{
  "cells": [
    {
      "cell_type": "code",
      "metadata": {},
      "source": [
        "#!/usr/bin/env python\n",
        "# coding: utf-8\n",
        "\n",
        "\n",
        "\n",
        "\n",
        "\n",
        "from fastai.vision import *\n",
        "import matplotlib.pyplot as plt\n",
        "\n",
        "path = Path('data/left_in')\n",
        "\n",
        "classes = ['cd4487_100', 'cq4277_001', 'aq8296_100', 'aq0818_148', 'aa3834_101']\n",
        "np.random.seed(42)\n",
        "data = ImageDataBunch.from_folder(path, train=\".\", valid_pct=0.2,\n",
        "        ds_tfms=get_transforms(), size=224, num_workers=0).normalize(imagenet_stats)\n",
        "data.classes\n",
        "data.show_batch(rows=5, figsize=(12,12))\n",
        "data.classes, data.c, len(data.train_ds), len(data.valid_ds)\n",
        "\n",
        "bs = 64\n",
        "np.random.seed(42)\n",
        "data = ImageDataBunch.from_folder(path, train=\".\", valid_pct=0.2,\n",
        "        ds_tfms=get_transforms(), size=299, bs=bs//2, num_workers=0).normalize(imagenet_stats)\n",
        "learn = create_cnn(data, models.resnet50, metrics=error_rate)\n",
        "learn.lr_find()\n",
        "learn.recorder.plot()\n",
        "learn.fit_one_cycle(5)\n",
        "learn.save('stage-1-50')\n",
        "learn.unfreeze()\n",
        "learn.fit_one_cycle(3, max_lr=slice(1e-6,1e-4))\n",
        "learn.save('stage-2-50')\n",
        "learn.load('stage-2-50')\n",
        "learn.fit_one_cycle(5)\n",
        "learn = create_cnn(data, models.resnet50, metrics=error_rate)\n",
        "learn.fit_one_cycle(5)\n",
        "learn.save('stage-3-50')\n",
        "learn.lr_find()\n",
        "learn.recorder.plot()\n",
        "learn.unfreeze()\n",
        "learn.fit_one_cycle(6, max_lr=slice(1e-6,1e-5))\n",
        "learn.save('stage-4-50')\n",
        "learn.fit_one_cycle(6)\n",
        "learn.save('stage-5-50')\n",
        "# It looks like stage-4-50 had the lowest error rate at 0.089\n",
        "learn.load('stage-4-50')\n",
        "# Resnet50 results\n",
        "interp = ClassificationInterpretation.from_learner(learn)\n",
        "interp.plot_confusion_matrix(figsize=(12,12))\n",
        "# Resnet50 results\n",
        "interp.plot_top_losses(16, figsize=(15,11))\n",
        "\n",
        "\n",
        "learn.export()\n"
      ],
      "outputs": [],
      "execution_count": null
    }
  ],
  "metadata": {
    "anaconda-cloud": {},
    "kernelspec": {
      "display_name": "Python 3",
      "language": "python",
      "name": "python3"
    },
    "language_info": {
      "codemirror_mode": {
        "name": "ipython",
        "version": 3
      },
      "file_extension": ".py",
      "mimetype": "text/x-python",
      "name": "python",
      "nbconvert_exporter": "python",
      "pygments_lexer": "ipython3",
      "version": "3.6.1"
    }
  },
  "nbformat": 4,
  "nbformat_minor": 1
}